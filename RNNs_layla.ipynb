{
  "nbformat": 4,
  "nbformat_minor": 0,
  "metadata": {
    "colab": {
      "provenance": []
    },
    "kernelspec": {
      "name": "python3",
      "display_name": "Python 3"
    },
    "language_info": {
      "name": "python"
    }
  },
  "cells": [
    {
      "cell_type": "markdown",
      "source": [
        "**Importing of libraries + mounting the GTZAN dataset**"
      ],
      "metadata": {
        "id": "tTHMFsbhMMl9"
      }
    },
    {
      "cell_type": "code",
      "execution_count": null,
      "metadata": {
        "id": "2hayAMtZ9FEW",
        "colab": {
          "base_uri": "https://localhost:8080/"
        },
        "outputId": "b575c96e-8aab-44c2-e187-b96de7205754"
      },
      "outputs": [
        {
          "output_type": "stream",
          "name": "stdout",
          "text": [
            "Mounted at /content/drive\n",
            "/content/drive/MyDrive/Kaggle\n",
            "404 - Not Found\n"
          ]
        }
      ],
      "source": [
        "import tensorflow as tf\n",
        "import numpy as np\n",
        "from tqdm import tqdm\n",
        "import pandas\n",
        "import matplotlib.pyplot as plt\n",
        "import warnings\n",
        "#import category_encoders as cat_encoder\n",
        "from sklearn.preprocessing import LabelBinarizer\n",
        "warnings.filterwarnings('ignore')\n",
        "from keras.layers import LSTM, GRU, RNN, Bidirectional, Dense, Dropout, Input, Flatten\n",
        "from sklearn.model_selection import train_test_split\n",
        "#from sklearn.preprocessing import OneHotEncoder\n",
        "import keras\n",
        "from keras import layers\n",
        "from tensorflow.keras.optimizers import Adam, SGD, RMSprop\n",
        "from keras.models import Sequential\n",
        "from keras.layers import RNN\n",
        "from keras import backend\n",
        "import librosa #needed to extract MFCCs\n",
        "from google.colab import drive\n",
        "drive.mount('/content/drive', force_remount=True)\n",
        "import os\n",
        "os.environ['KAGGLE_CONFIG_DIR'] = \"/content/drive/MyDrive/Kaggle\"\n",
        "%cd /content/drive/MyDrive/Kaggle/\n",
        "!kaggle datasets download -d andradaolteanu/gtzan-dataset-music-genre-classification --unzip"
      ]
    },
    {
      "cell_type": "markdown",
      "source": [
        "**Reading targetted file**\n",
        "\n",
        "Contains the features of the audio clips (not the spectrograms)\n",
        "\n",
        "---\n",
        "\n"
      ],
      "metadata": {
        "id": "sZU2mk35MX0N"
      }
    },
    {
      "cell_type": "code",
      "source": [
        "#Dataset: features_3_sec.csv\n",
        "df = pandas.read_csv('/content/drive/MyDrive/Kaggle/Data/features_3_sec.csv')\n",
        "\n",
        "#Dataset: features_30_sec.csv\n",
        "#df = pandas.read_csv('/content/drive/MyDrive/Kaggle/Data/features_30_sec.csv')\n",
        "\n"
      ],
      "metadata": {
        "id": "OGbaKChz-bNG"
      },
      "execution_count": null,
      "outputs": []
    },
    {
      "cell_type": "markdown",
      "source": [
        "**Graph Plotting Function**"
      ],
      "metadata": {
        "id": "7vIeQA9zM_s1"
      }
    },
    {
      "cell_type": "code",
      "source": [
        "def plot(training_results, validation_results, results_type, model_name):\n",
        "    fig = plt.figure(figsize=[8, 6])\n",
        "\n",
        "    plt.plot(training_results, 'r', linewidth=3.0)\n",
        "    plt.plot(validation_results, 'b', linewidth=3.0)\n",
        "    plt.legend(['Training ' + results_type, 'Validation ' + results_type], fontsize=18)\n",
        "    plt.xlabel('Epochs', fontsize=16)\n",
        "    plt.ylabel(results_type, fontsize=16)\n",
        "    plt.title(results_type + ' of ' + model_name, fontsize=16)\n",
        "\n",
        "def plot_accuracy(history, model_name):\n",
        "    plot(history.history['accuracy'], history.history['val_accuracy'], 'Accuracy', model_name)\n",
        "\n",
        "\n",
        "def plot_loss(history, model_name):\n",
        "    plot(history.history['loss'], history.history['val_loss'], 'Loss', model_name)"
      ],
      "metadata": {
        "id": "BOdGsjN8QMjN"
      },
      "execution_count": null,
      "outputs": []
    },
    {
      "cell_type": "markdown",
      "source": [
        "**Extraction of the MFCCs from GTZAN**\n",
        "\n",
        "There are two forms of the MFCCs in the dataset, there are the MFCCs variance, and the mean. After testing on both, the MFFCs mean got better accuracy results."
      ],
      "metadata": {
        "id": "0hwcbkf4LU3b"
      }
    },
    {
      "cell_type": "code",
      "source": [
        "extracted_MFCCs = []\n",
        "for index, row in tqdm(df.iterrows()):\n",
        "    genres = row['label']\n",
        "    mfcc = []\n",
        "#there are 20 different MFCCs for every audio file, so we're going to extract thhe 20 MFFCs and the corresponding label to every 20)\n",
        "  #  for i in range(0,20):\n",
        "    for i in range(1,21):\n",
        "      #mfcc.append(row['mfcc'+ str(i)+'_var'])\n",
        "      mfcc.append(row['mfcc'+ str(i)+'_mean'])\n",
        "    extracted_MFCCs.append([mfcc, genres])\n",
        "print(extracted_MFCCs[0][0])\n",
        "print(extracted_MFCCs[0][1])\n",
        "print(extracted_MFCCs[1][0])\n",
        "print(extracted_MFCCs[1][1])\n",
        "print(extracted_MFCCs[2][0])\n",
        "print(extracted_MFCCs[2][1])"
      ],
      "metadata": {
        "colab": {
          "base_uri": "https://localhost:8080/"
        },
        "id": "CvHLiwKq-b0l",
        "outputId": "6c86fad8-2801-4d39-c8d3-0936e8630751"
      },
      "execution_count": null,
      "outputs": [
        {
          "output_type": "stream",
          "name": "stderr",
          "text": [
            "9990it [00:01, 6683.11it/s]"
          ]
        },
        {
          "output_type": "stream",
          "name": "stdout",
          "text": [
            "[-118.62791442871094, 125.08362579345705, -23.443723678588867, 41.32148361206055, -5.976108074188232, 20.115140914916992, -16.04541015625, 17.85519790649414, -14.633434295654297, 10.270526885986328, -9.70827865600586, 10.18387508392334, -4.681614398956299, 8.417439460754395, -7.233476638793945, -2.8536033630371094, -3.2412803173065186, 0.7222089767456055, -5.05033540725708, -0.2430267930030822]\n",
            "blues\n",
            "[-125.59070587158205, 122.42122650146484, -20.718019485473636, 50.12838745117188, -11.33330249786377, 21.385400772094727, -15.960796356201172, 19.454103469848636, -12.465917587280272, 17.898168563842773, -11.73255443572998, 8.145000457763672, -7.717750549316406, 8.397150039672852, -8.300493240356445, 4.074709415435791, -6.055294036865234, 0.1590154767036438, -2.8376989364624023, 5.784063339233398]\n",
            "blues\n",
            "[-132.4419403076172, 115.08517456054688, -14.81166648864746, 50.18929290771485, -0.6808194518089294, 24.650375366210938, -13.506104469299316, 15.643385887145996, -13.216636657714844, 10.406024932861328, -7.991464614868164, 11.853962898254396, -4.677677154541016, 6.571109771728516, -2.4247500896453857, 4.806280136108398, -1.7686097621917725, 2.3787682056427, -1.9384244680404663, 2.5173747539520264]\n",
            "blues\n"
          ]
        },
        {
          "output_type": "stream",
          "name": "stderr",
          "text": [
            "\n"
          ]
        }
      ]
    },
    {
      "cell_type": "markdown",
      "source": [
        "**Reorganizing extracted data into table**\n",
        "\n",
        "I will then use the table to split it into two arrays, one for the MFCCs_mean and one for the corresponding genre classes"
      ],
      "metadata": {
        "id": "9vIB_-M1NIXV"
      }
    },
    {
      "cell_type": "code",
      "source": [
        "extracted_features_df = pandas.DataFrame(extracted_MFCCs, columns=['extracted features','genre classification'])\n",
        "x = np.array(extracted_features_df['extracted features'].tolist())\n",
        "print(x.shape)\n",
        "g = np.array(extracted_features_df['genre classification'].tolist())\n",
        "#display(g)"
      ],
      "metadata": {
        "colab": {
          "base_uri": "https://localhost:8080/"
        },
        "id": "mSDGlBq9_LGl",
        "outputId": "3fe3e9cd-b796-45a9-f12f-f2efb411759f"
      },
      "execution_count": null,
      "outputs": [
        {
          "output_type": "stream",
          "name": "stdout",
          "text": [
            "(9990, 20)\n"
          ]
        }
      ]
    },
    {
      "cell_type": "markdown",
      "source": [
        "**One-hot encoder for text input**\n",
        "\n",
        "Used for the music genre classes since they're text inputs"
      ],
      "metadata": {
        "id": "z_oa9BkWK07q"
      }
    },
    {
      "cell_type": "code",
      "source": [
        "genre_classes = {'Genre': g}\n",
        "\n",
        "df = pandas.DataFrame(genre_classes)\n",
        "one_hot_encoder = LabelBinarizer()\n",
        "one_hot_encoder_output = one_hot_encoder.fit_transform( df['Genre'])\n",
        "enc_y = pandas.DataFrame(one_hot_encoder_output, columns = one_hot_encoder.classes_)\n",
        "display(enc_y)\n",
        "\n",
        "\n",
        "# df = pandas.DataFrame(columns=['blues',\t'classical', 'country',\t'disco', 'hiphop', 'jazz', 'metal',\t'pop',\t'reggae',\t'rock'])\n",
        "\n",
        "# indx = 0\n",
        "\n",
        "# for i in target:\n",
        "#   if i == 'blue':\n",
        "#     df.insert(indx, , \"0\")\n",
        "\n",
        "# display(df)"
      ],
      "metadata": {
        "colab": {
          "base_uri": "https://localhost:8080/",
          "height": 424
        },
        "id": "sC1oLC0l_Tqr",
        "outputId": "9d67efa5-8534-4141-c5d9-58c65212ae2b"
      },
      "execution_count": null,
      "outputs": [
        {
          "output_type": "display_data",
          "data": {
            "text/plain": [
              "      blues  classical  country  disco  hiphop  jazz  metal  pop  reggae  rock\n",
              "0         1          0        0      0       0     0      0    0       0     0\n",
              "1         1          0        0      0       0     0      0    0       0     0\n",
              "2         1          0        0      0       0     0      0    0       0     0\n",
              "3         1          0        0      0       0     0      0    0       0     0\n",
              "4         1          0        0      0       0     0      0    0       0     0\n",
              "...     ...        ...      ...    ...     ...   ...    ...  ...     ...   ...\n",
              "9985      0          0        0      0       0     0      0    0       0     1\n",
              "9986      0          0        0      0       0     0      0    0       0     1\n",
              "9987      0          0        0      0       0     0      0    0       0     1\n",
              "9988      0          0        0      0       0     0      0    0       0     1\n",
              "9989      0          0        0      0       0     0      0    0       0     1\n",
              "\n",
              "[9990 rows x 10 columns]"
            ],
            "text/html": [
              "\n",
              "  <div id=\"df-c3209c3a-a471-460e-8d53-e563a296ddf8\">\n",
              "    <div class=\"colab-df-container\">\n",
              "      <div>\n",
              "<style scoped>\n",
              "    .dataframe tbody tr th:only-of-type {\n",
              "        vertical-align: middle;\n",
              "    }\n",
              "\n",
              "    .dataframe tbody tr th {\n",
              "        vertical-align: top;\n",
              "    }\n",
              "\n",
              "    .dataframe thead th {\n",
              "        text-align: right;\n",
              "    }\n",
              "</style>\n",
              "<table border=\"1\" class=\"dataframe\">\n",
              "  <thead>\n",
              "    <tr style=\"text-align: right;\">\n",
              "      <th></th>\n",
              "      <th>blues</th>\n",
              "      <th>classical</th>\n",
              "      <th>country</th>\n",
              "      <th>disco</th>\n",
              "      <th>hiphop</th>\n",
              "      <th>jazz</th>\n",
              "      <th>metal</th>\n",
              "      <th>pop</th>\n",
              "      <th>reggae</th>\n",
              "      <th>rock</th>\n",
              "    </tr>\n",
              "  </thead>\n",
              "  <tbody>\n",
              "    <tr>\n",
              "      <th>0</th>\n",
              "      <td>1</td>\n",
              "      <td>0</td>\n",
              "      <td>0</td>\n",
              "      <td>0</td>\n",
              "      <td>0</td>\n",
              "      <td>0</td>\n",
              "      <td>0</td>\n",
              "      <td>0</td>\n",
              "      <td>0</td>\n",
              "      <td>0</td>\n",
              "    </tr>\n",
              "    <tr>\n",
              "      <th>1</th>\n",
              "      <td>1</td>\n",
              "      <td>0</td>\n",
              "      <td>0</td>\n",
              "      <td>0</td>\n",
              "      <td>0</td>\n",
              "      <td>0</td>\n",
              "      <td>0</td>\n",
              "      <td>0</td>\n",
              "      <td>0</td>\n",
              "      <td>0</td>\n",
              "    </tr>\n",
              "    <tr>\n",
              "      <th>2</th>\n",
              "      <td>1</td>\n",
              "      <td>0</td>\n",
              "      <td>0</td>\n",
              "      <td>0</td>\n",
              "      <td>0</td>\n",
              "      <td>0</td>\n",
              "      <td>0</td>\n",
              "      <td>0</td>\n",
              "      <td>0</td>\n",
              "      <td>0</td>\n",
              "    </tr>\n",
              "    <tr>\n",
              "      <th>3</th>\n",
              "      <td>1</td>\n",
              "      <td>0</td>\n",
              "      <td>0</td>\n",
              "      <td>0</td>\n",
              "      <td>0</td>\n",
              "      <td>0</td>\n",
              "      <td>0</td>\n",
              "      <td>0</td>\n",
              "      <td>0</td>\n",
              "      <td>0</td>\n",
              "    </tr>\n",
              "    <tr>\n",
              "      <th>4</th>\n",
              "      <td>1</td>\n",
              "      <td>0</td>\n",
              "      <td>0</td>\n",
              "      <td>0</td>\n",
              "      <td>0</td>\n",
              "      <td>0</td>\n",
              "      <td>0</td>\n",
              "      <td>0</td>\n",
              "      <td>0</td>\n",
              "      <td>0</td>\n",
              "    </tr>\n",
              "    <tr>\n",
              "      <th>...</th>\n",
              "      <td>...</td>\n",
              "      <td>...</td>\n",
              "      <td>...</td>\n",
              "      <td>...</td>\n",
              "      <td>...</td>\n",
              "      <td>...</td>\n",
              "      <td>...</td>\n",
              "      <td>...</td>\n",
              "      <td>...</td>\n",
              "      <td>...</td>\n",
              "    </tr>\n",
              "    <tr>\n",
              "      <th>9985</th>\n",
              "      <td>0</td>\n",
              "      <td>0</td>\n",
              "      <td>0</td>\n",
              "      <td>0</td>\n",
              "      <td>0</td>\n",
              "      <td>0</td>\n",
              "      <td>0</td>\n",
              "      <td>0</td>\n",
              "      <td>0</td>\n",
              "      <td>1</td>\n",
              "    </tr>\n",
              "    <tr>\n",
              "      <th>9986</th>\n",
              "      <td>0</td>\n",
              "      <td>0</td>\n",
              "      <td>0</td>\n",
              "      <td>0</td>\n",
              "      <td>0</td>\n",
              "      <td>0</td>\n",
              "      <td>0</td>\n",
              "      <td>0</td>\n",
              "      <td>0</td>\n",
              "      <td>1</td>\n",
              "    </tr>\n",
              "    <tr>\n",
              "      <th>9987</th>\n",
              "      <td>0</td>\n",
              "      <td>0</td>\n",
              "      <td>0</td>\n",
              "      <td>0</td>\n",
              "      <td>0</td>\n",
              "      <td>0</td>\n",
              "      <td>0</td>\n",
              "      <td>0</td>\n",
              "      <td>0</td>\n",
              "      <td>1</td>\n",
              "    </tr>\n",
              "    <tr>\n",
              "      <th>9988</th>\n",
              "      <td>0</td>\n",
              "      <td>0</td>\n",
              "      <td>0</td>\n",
              "      <td>0</td>\n",
              "      <td>0</td>\n",
              "      <td>0</td>\n",
              "      <td>0</td>\n",
              "      <td>0</td>\n",
              "      <td>0</td>\n",
              "      <td>1</td>\n",
              "    </tr>\n",
              "    <tr>\n",
              "      <th>9989</th>\n",
              "      <td>0</td>\n",
              "      <td>0</td>\n",
              "      <td>0</td>\n",
              "      <td>0</td>\n",
              "      <td>0</td>\n",
              "      <td>0</td>\n",
              "      <td>0</td>\n",
              "      <td>0</td>\n",
              "      <td>0</td>\n",
              "      <td>1</td>\n",
              "    </tr>\n",
              "  </tbody>\n",
              "</table>\n",
              "<p>9990 rows × 10 columns</p>\n",
              "</div>\n",
              "      <button class=\"colab-df-convert\" onclick=\"convertToInteractive('df-c3209c3a-a471-460e-8d53-e563a296ddf8')\"\n",
              "              title=\"Convert this dataframe to an interactive table.\"\n",
              "              style=\"display:none;\">\n",
              "        \n",
              "  <svg xmlns=\"http://www.w3.org/2000/svg\" height=\"24px\"viewBox=\"0 0 24 24\"\n",
              "       width=\"24px\">\n",
              "    <path d=\"M0 0h24v24H0V0z\" fill=\"none\"/>\n",
              "    <path d=\"M18.56 5.44l.94 2.06.94-2.06 2.06-.94-2.06-.94-.94-2.06-.94 2.06-2.06.94zm-11 1L8.5 8.5l.94-2.06 2.06-.94-2.06-.94L8.5 2.5l-.94 2.06-2.06.94zm10 10l.94 2.06.94-2.06 2.06-.94-2.06-.94-.94-2.06-.94 2.06-2.06.94z\"/><path d=\"M17.41 7.96l-1.37-1.37c-.4-.4-.92-.59-1.43-.59-.52 0-1.04.2-1.43.59L10.3 9.45l-7.72 7.72c-.78.78-.78 2.05 0 2.83L4 21.41c.39.39.9.59 1.41.59.51 0 1.02-.2 1.41-.59l7.78-7.78 2.81-2.81c.8-.78.8-2.07 0-2.86zM5.41 20L4 18.59l7.72-7.72 1.47 1.35L5.41 20z\"/>\n",
              "  </svg>\n",
              "      </button>\n",
              "      \n",
              "  <style>\n",
              "    .colab-df-container {\n",
              "      display:flex;\n",
              "      flex-wrap:wrap;\n",
              "      gap: 12px;\n",
              "    }\n",
              "\n",
              "    .colab-df-convert {\n",
              "      background-color: #E8F0FE;\n",
              "      border: none;\n",
              "      border-radius: 50%;\n",
              "      cursor: pointer;\n",
              "      display: none;\n",
              "      fill: #1967D2;\n",
              "      height: 32px;\n",
              "      padding: 0 0 0 0;\n",
              "      width: 32px;\n",
              "    }\n",
              "\n",
              "    .colab-df-convert:hover {\n",
              "      background-color: #E2EBFA;\n",
              "      box-shadow: 0px 1px 2px rgba(60, 64, 67, 0.3), 0px 1px 3px 1px rgba(60, 64, 67, 0.15);\n",
              "      fill: #174EA6;\n",
              "    }\n",
              "\n",
              "    [theme=dark] .colab-df-convert {\n",
              "      background-color: #3B4455;\n",
              "      fill: #D2E3FC;\n",
              "    }\n",
              "\n",
              "    [theme=dark] .colab-df-convert:hover {\n",
              "      background-color: #434B5C;\n",
              "      box-shadow: 0px 1px 3px 1px rgba(0, 0, 0, 0.15);\n",
              "      filter: drop-shadow(0px 1px 2px rgba(0, 0, 0, 0.3));\n",
              "      fill: #FFFFFF;\n",
              "    }\n",
              "  </style>\n",
              "\n",
              "      <script>\n",
              "        const buttonEl =\n",
              "          document.querySelector('#df-c3209c3a-a471-460e-8d53-e563a296ddf8 button.colab-df-convert');\n",
              "        buttonEl.style.display =\n",
              "          google.colab.kernel.accessAllowed ? 'block' : 'none';\n",
              "\n",
              "        async function convertToInteractive(key) {\n",
              "          const element = document.querySelector('#df-c3209c3a-a471-460e-8d53-e563a296ddf8');\n",
              "          const dataTable =\n",
              "            await google.colab.kernel.invokeFunction('convertToInteractive',\n",
              "                                                     [key], {});\n",
              "          if (!dataTable) return;\n",
              "\n",
              "          const docLinkHtml = 'Like what you see? Visit the ' +\n",
              "            '<a target=\"_blank\" href=https://colab.research.google.com/notebooks/data_table.ipynb>data table notebook</a>'\n",
              "            + ' to learn more about interactive tables.';\n",
              "          element.innerHTML = '';\n",
              "          dataTable['output_type'] = 'display_data';\n",
              "          await google.colab.output.renderOutput(dataTable, element);\n",
              "          const docLink = document.createElement('div');\n",
              "          docLink.innerHTML = docLinkHtml;\n",
              "          element.appendChild(docLink);\n",
              "        }\n",
              "      </script>\n",
              "    </div>\n",
              "  </div>\n",
              "  "
            ]
          },
          "metadata": {}
        }
      ]
    },
    {
      "cell_type": "markdown",
      "source": [
        "**Splitting data into training and test data**"
      ],
      "metadata": {
        "id": "wPiqaznKOTZP"
      }
    },
    {
      "cell_type": "code",
      "source": [
        "X_train, X_test, y_train, y_test = train_test_split(x, enc_y, test_size=0.2, random_state=8)\n",
        "#Dataset: features_3_sec.csv\n",
        "\n",
        "#test_size=0.3\n",
        "#np.array(X_train).reshape(6993, 1, 20)\n",
        "\n",
        "#test_size=0.2\n",
        "np.array(X_train).reshape(7992, 1, 20)\n",
        "\n",
        "\n",
        "\n",
        "#Dataset: features_30_sec.csv\n",
        "#np.array(X_train).reshape(700, 1, 20)\n",
        "#X_test.shape"
      ],
      "metadata": {
        "colab": {
          "base_uri": "https://localhost:8080/"
        },
        "id": "_8NgGnte_Xv_",
        "outputId": "91d94810-a337-473f-c4e4-c4f370eac7a9"
      },
      "execution_count": null,
      "outputs": [
        {
          "output_type": "execute_result",
          "data": {
            "text/plain": [
              "array([[[-126.98323059,   90.9648819 ,   -5.45112562, ...,\n",
              "           -3.86198545,   -4.79632282,   -5.04565763]],\n",
              "\n",
              "       [[ -62.78665924,   80.59348297,  -20.63264084, ...,\n",
              "            4.69052172,   -5.66636086,    3.71627951]],\n",
              "\n",
              "       [[-177.11141968,  112.3611145 ,  -33.39751434, ...,\n",
              "           -4.80053091,   -1.71011198,   -0.6724537 ]],\n",
              "\n",
              "       ...,\n",
              "\n",
              "       [[ -70.14759827,  103.24803162,   -0.79092902, ...,\n",
              "           -3.52521825,   -2.95958495,   -3.03603959]],\n",
              "\n",
              "       [[ -25.47847557,   60.18863678,   11.28849506, ...,\n",
              "            0.84218341,   -1.2466675 ,    2.00404644]],\n",
              "\n",
              "       [[-159.20288086,  113.4284668 ,  -15.85126781, ...,\n",
              "           -4.93219328,   -2.99037933,   -2.43536973]]])"
            ]
          },
          "metadata": {},
          "execution_count": 7
        }
      ]
    },
    {
      "cell_type": "code",
      "source": [
        "class MinimalRNNCell(keras.layers.Layer):\n",
        "\n",
        "    def __init__(self, units, **kwargs):\n",
        "        self.units = units\n",
        "        self.state_size = units\n",
        "        super(MinimalRNNCell, self).__init__(**kwargs)\n",
        "\n",
        "    def build(self, input_shape):\n",
        "        self.kernel = self.add_weight(shape=(input_shape[-1], self.units),\n",
        "                                      initializer='uniform',\n",
        "                                      name='kernel')\n",
        "        self.recurrent_kernel = self.add_weight(\n",
        "            shape=(self.units, self.units),\n",
        "            initializer='uniform',\n",
        "            name='recurrent_kernel')\n",
        "        self.built = True\n",
        "\n",
        "    def call(self, inputs, states):\n",
        "        prev_output = states[0]\n",
        "        h = backend.dot(inputs, self.kernel)\n",
        "        output = h + backend.dot(prev_output, self.recurrent_kernel)\n",
        "        return output, [output]\n",
        "\n",
        "# Let's use this cell in a RNN layer:\n",
        "\n",
        "\n",
        "cells = [MinimalRNNCell(32), MinimalRNNCell(64), MinimalRNNCell(64), MinimalRNNCell(64)]"
      ],
      "metadata": {
        "id": "4BdlwNVkVGoq"
      },
      "execution_count": null,
      "outputs": []
    },
    {
      "cell_type": "markdown",
      "source": [
        "**Building the RNN model**"
      ],
      "metadata": {
        "id": "izjhmaLMPJ73"
      }
    },
    {
      "cell_type": "code",
      "source": [
        "model = Sequential()\n",
        "model.add(Input(shape = (1,20)))\n",
        "model.add(Bidirectional(LSTM(256, return_sequences = True,  dropout = 0.2)))\n",
        "#model.add(Bidirectional(GRU(256, return_sequences = True,  dropout = 0.2)))\n",
        "#model.add(RNN(cells))\n",
        "\n",
        "model.add(LSTM(64))\n",
        "model.add(Flatten())\n",
        "model.add(Dense(1024, activation='relu'))\n",
        "model.add(Dense(10, activation='softmax'))\n",
        "#adam = tf.keras.optimizers.Adam(lr = 0.001),\n",
        "model.compile(loss = 'categorical_crossentropy',optimizer = 'adam', metrics=['accuracy'])\n",
        "    #optimizer = 'SGD',\n",
        "    #optimizer = 'RMSProp',\n",
        "    #loss = 'poisson',\n",
        "\n",
        "print(model.summary())"
      ],
      "metadata": {
        "colab": {
          "base_uri": "https://localhost:8080/"
        },
        "id": "QBJB3pkz_brV",
        "outputId": "9ff8ae8a-50c5-4444-f838-7f76b08fe878"
      },
      "execution_count": null,
      "outputs": [
        {
          "output_type": "stream",
          "name": "stdout",
          "text": [
            "Model: \"sequential_3\"\n",
            "_________________________________________________________________\n",
            " Layer (type)                Output Shape              Param #   \n",
            "=================================================================\n",
            " bidirectional_3 (Bidirectio  (None, 1, 512)           567296    \n",
            " nal)                                                            \n",
            "                                                                 \n",
            " lstm_3 (LSTM)               (None, 64)                147712    \n",
            "                                                                 \n",
            " flatten_2 (Flatten)         (None, 64)                0         \n",
            "                                                                 \n",
            " dense_4 (Dense)             (None, 1024)              66560     \n",
            "                                                                 \n",
            " dense_5 (Dense)             (None, 10)                10250     \n",
            "                                                                 \n",
            "=================================================================\n",
            "Total params: 791,818\n",
            "Trainable params: 791,818\n",
            "Non-trainable params: 0\n",
            "_________________________________________________________________\n",
            "None\n"
          ]
        }
      ]
    },
    {
      "cell_type": "markdown",
      "source": [
        "**Testing my model**"
      ],
      "metadata": {
        "id": "9d_GjxqKPP1_"
      }
    },
    {
      "cell_type": "code",
      "source": [
        "#Dataset: features_3_sec.csv\n",
        "\n",
        "\n",
        "\n",
        "#For test_size = 0.2\n",
        "history = model.fit(np.array(X_train).reshape(7992, 1, 20),np.array(y_train),epochs=100, batch_size = 25, validation_data = (np.array(X_test).reshape(1998,1,20),np.array(y_test)))\n",
        "preds = model.evaluate(np.array(X_test).reshape(1998,1,20),np.array(y_test), batch_size=25)\n",
        "\n",
        "#For test_size = 0.3\n",
        "# history = model.fit(np.array(X_train).reshape(6993, 1, 20),np.array(y_train),epochs=100, batch_size = 30, validation_data = (np.array(X_test).reshape(2997,1,20),np.array(y_test)))\n",
        "# preds = model.evaluate(np.array(X_test).reshape(2997,1,20),np.array(y_test), batch_size=30)\n",
        "\n",
        "#Dataset: features_30_sec.csv\n",
        "#history = model.fit(np.array(X_train).reshape(700, 1, 20),np.array(y_train),epochs=100, batch_size = 30, validation_data = (np.array(X_test).reshape(300,1,20),np.array(y_test)))\n",
        "#preds = model.evaluate(np.array(X_test).reshape(300,1,20),np.array(y_test), batch_size=30)"
      ],
      "metadata": {
        "colab": {
          "base_uri": "https://localhost:8080/"
        },
        "id": "nwwmyXBK_pLb",
        "outputId": "214156b9-0fdb-48cd-f15a-eebd9a78cb47"
      },
      "execution_count": null,
      "outputs": [
        {
          "output_type": "stream",
          "name": "stdout",
          "text": [
            "Epoch 1/100\n",
            "320/320 [==============================] - 13s 22ms/step - loss: 1.6803 - accuracy: 0.3916 - val_loss: 1.3855 - val_accuracy: 0.5030\n",
            "Epoch 2/100\n",
            "320/320 [==============================] - 6s 17ms/step - loss: 1.4683 - accuracy: 0.4677 - val_loss: 1.3263 - val_accuracy: 0.5110\n",
            "Epoch 3/100\n",
            "320/320 [==============================] - 6s 18ms/step - loss: 1.3926 - accuracy: 0.4946 - val_loss: 1.2482 - val_accuracy: 0.5551\n",
            "Epoch 4/100\n",
            "320/320 [==============================] - 6s 18ms/step - loss: 1.3462 - accuracy: 0.5150 - val_loss: 1.2793 - val_accuracy: 0.5460\n",
            "Epoch 5/100\n",
            "320/320 [==============================] - 5s 17ms/step - loss: 1.2832 - accuracy: 0.5385 - val_loss: 1.1060 - val_accuracy: 0.6126\n",
            "Epoch 6/100\n",
            "320/320 [==============================] - 6s 18ms/step - loss: 1.2561 - accuracy: 0.5468 - val_loss: 1.1907 - val_accuracy: 0.5696\n",
            "Epoch 7/100\n",
            "320/320 [==============================] - 6s 18ms/step - loss: 1.2212 - accuracy: 0.5621 - val_loss: 1.1293 - val_accuracy: 0.6091\n",
            "Epoch 8/100\n",
            "320/320 [==============================] - 6s 18ms/step - loss: 1.1993 - accuracy: 0.5726 - val_loss: 1.0982 - val_accuracy: 0.6186\n",
            "Epoch 9/100\n",
            "320/320 [==============================] - 6s 18ms/step - loss: 1.1631 - accuracy: 0.5825 - val_loss: 1.0274 - val_accuracy: 0.6376\n",
            "Epoch 10/100\n",
            "320/320 [==============================] - 5s 17ms/step - loss: 1.1412 - accuracy: 0.5930 - val_loss: 1.0471 - val_accuracy: 0.6231\n",
            "Epoch 11/100\n",
            "320/320 [==============================] - 7s 21ms/step - loss: 1.1321 - accuracy: 0.6004 - val_loss: 1.0712 - val_accuracy: 0.6231\n",
            "Epoch 12/100\n",
            "320/320 [==============================] - 9s 27ms/step - loss: 1.1085 - accuracy: 0.6011 - val_loss: 1.0632 - val_accuracy: 0.6256\n",
            "Epoch 13/100\n",
            "320/320 [==============================] - 6s 18ms/step - loss: 1.1022 - accuracy: 0.6059 - val_loss: 0.9913 - val_accuracy: 0.6542\n",
            "Epoch 14/100\n",
            "320/320 [==============================] - 6s 18ms/step - loss: 1.0734 - accuracy: 0.6170 - val_loss: 0.9895 - val_accuracy: 0.6547\n",
            "Epoch 15/100\n",
            "320/320 [==============================] - 6s 18ms/step - loss: 1.0489 - accuracy: 0.6217 - val_loss: 0.9992 - val_accuracy: 0.6456\n",
            "Epoch 16/100\n",
            "320/320 [==============================] - 6s 18ms/step - loss: 1.0360 - accuracy: 0.6244 - val_loss: 0.9602 - val_accuracy: 0.6692\n",
            "Epoch 17/100\n",
            "320/320 [==============================] - 6s 18ms/step - loss: 1.0189 - accuracy: 0.6341 - val_loss: 0.9688 - val_accuracy: 0.6552\n",
            "Epoch 18/100\n",
            "320/320 [==============================] - 5s 17ms/step - loss: 1.0120 - accuracy: 0.6365 - val_loss: 0.9749 - val_accuracy: 0.6642\n",
            "Epoch 19/100\n",
            "320/320 [==============================] - 5s 17ms/step - loss: 0.9937 - accuracy: 0.6453 - val_loss: 0.8919 - val_accuracy: 0.6897\n",
            "Epoch 20/100\n",
            "320/320 [==============================] - 6s 17ms/step - loss: 0.9829 - accuracy: 0.6498 - val_loss: 0.9187 - val_accuracy: 0.6837\n",
            "Epoch 21/100\n",
            "320/320 [==============================] - 6s 18ms/step - loss: 0.9746 - accuracy: 0.6495 - val_loss: 0.9095 - val_accuracy: 0.6812\n",
            "Epoch 22/100\n",
            "320/320 [==============================] - 6s 18ms/step - loss: 0.9567 - accuracy: 0.6595 - val_loss: 0.9506 - val_accuracy: 0.6777\n",
            "Epoch 23/100\n",
            "320/320 [==============================] - 6s 17ms/step - loss: 0.9533 - accuracy: 0.6589 - val_loss: 0.8982 - val_accuracy: 0.6887\n",
            "Epoch 24/100\n",
            "320/320 [==============================] - 5s 17ms/step - loss: 0.9233 - accuracy: 0.6700 - val_loss: 0.9580 - val_accuracy: 0.6697\n",
            "Epoch 25/100\n",
            "320/320 [==============================] - 6s 17ms/step - loss: 0.9195 - accuracy: 0.6729 - val_loss: 0.8833 - val_accuracy: 0.6792\n",
            "Epoch 26/100\n",
            "320/320 [==============================] - 6s 17ms/step - loss: 0.9096 - accuracy: 0.6704 - val_loss: 0.8984 - val_accuracy: 0.6837\n",
            "Epoch 27/100\n",
            "320/320 [==============================] - 6s 18ms/step - loss: 0.9110 - accuracy: 0.6728 - val_loss: 0.8732 - val_accuracy: 0.6992\n",
            "Epoch 28/100\n",
            "320/320 [==============================] - 5s 17ms/step - loss: 0.8847 - accuracy: 0.6827 - val_loss: 0.8880 - val_accuracy: 0.6982\n",
            "Epoch 29/100\n",
            "320/320 [==============================] - 6s 18ms/step - loss: 0.8872 - accuracy: 0.6852 - val_loss: 0.8630 - val_accuracy: 0.7157\n",
            "Epoch 30/100\n",
            "320/320 [==============================] - 6s 18ms/step - loss: 0.8934 - accuracy: 0.6848 - val_loss: 0.8545 - val_accuracy: 0.7087\n",
            "Epoch 31/100\n",
            "320/320 [==============================] - 6s 18ms/step - loss: 0.8628 - accuracy: 0.6939 - val_loss: 0.8599 - val_accuracy: 0.7002\n",
            "Epoch 32/100\n",
            "320/320 [==============================] - 6s 18ms/step - loss: 0.8688 - accuracy: 0.6867 - val_loss: 0.8433 - val_accuracy: 0.7162\n",
            "Epoch 33/100\n",
            "320/320 [==============================] - 6s 17ms/step - loss: 0.8423 - accuracy: 0.6971 - val_loss: 0.7992 - val_accuracy: 0.7262\n",
            "Epoch 34/100\n",
            "320/320 [==============================] - 6s 17ms/step - loss: 0.8342 - accuracy: 0.6993 - val_loss: 0.8242 - val_accuracy: 0.7162\n",
            "Epoch 35/100\n",
            "320/320 [==============================] - 6s 18ms/step - loss: 0.8277 - accuracy: 0.7088 - val_loss: 0.8535 - val_accuracy: 0.7152\n",
            "Epoch 36/100\n",
            "320/320 [==============================] - 6s 17ms/step - loss: 0.8405 - accuracy: 0.6983 - val_loss: 0.8341 - val_accuracy: 0.7182\n",
            "Epoch 37/100\n",
            "320/320 [==============================] - 6s 18ms/step - loss: 0.8344 - accuracy: 0.6991 - val_loss: 0.8846 - val_accuracy: 0.7057\n",
            "Epoch 38/100\n",
            "320/320 [==============================] - 5s 17ms/step - loss: 0.8039 - accuracy: 0.7140 - val_loss: 0.7578 - val_accuracy: 0.7352\n",
            "Epoch 39/100\n",
            "320/320 [==============================] - 6s 18ms/step - loss: 0.8043 - accuracy: 0.7078 - val_loss: 0.8356 - val_accuracy: 0.7192\n",
            "Epoch 40/100\n",
            "320/320 [==============================] - 6s 18ms/step - loss: 0.8085 - accuracy: 0.7081 - val_loss: 0.7958 - val_accuracy: 0.7317\n",
            "Epoch 41/100\n",
            "320/320 [==============================] - 6s 17ms/step - loss: 0.7979 - accuracy: 0.7145 - val_loss: 0.8078 - val_accuracy: 0.7327\n",
            "Epoch 42/100\n",
            "320/320 [==============================] - 6s 17ms/step - loss: 0.7948 - accuracy: 0.7140 - val_loss: 0.8024 - val_accuracy: 0.7277\n",
            "Epoch 43/100\n",
            "320/320 [==============================] - 6s 17ms/step - loss: 0.7665 - accuracy: 0.7302 - val_loss: 0.7501 - val_accuracy: 0.7477\n",
            "Epoch 44/100\n",
            "320/320 [==============================] - 6s 18ms/step - loss: 0.7554 - accuracy: 0.7305 - val_loss: 0.7902 - val_accuracy: 0.7287\n",
            "Epoch 45/100\n",
            "320/320 [==============================] - 6s 18ms/step - loss: 0.7803 - accuracy: 0.7286 - val_loss: 0.7884 - val_accuracy: 0.7302\n",
            "Epoch 46/100\n",
            "320/320 [==============================] - 5s 17ms/step - loss: 0.7512 - accuracy: 0.7372 - val_loss: 0.7651 - val_accuracy: 0.7457\n",
            "Epoch 47/100\n",
            "320/320 [==============================] - 6s 17ms/step - loss: 0.7425 - accuracy: 0.7339 - val_loss: 0.7964 - val_accuracy: 0.7287\n",
            "Epoch 48/100\n",
            "320/320 [==============================] - 6s 18ms/step - loss: 0.7424 - accuracy: 0.7331 - val_loss: 0.7756 - val_accuracy: 0.7437\n",
            "Epoch 49/100\n",
            "320/320 [==============================] - 6s 17ms/step - loss: 0.7428 - accuracy: 0.7331 - val_loss: 0.7653 - val_accuracy: 0.7513\n",
            "Epoch 50/100\n",
            "320/320 [==============================] - 6s 18ms/step - loss: 0.7524 - accuracy: 0.7352 - val_loss: 0.7762 - val_accuracy: 0.7372\n",
            "Epoch 51/100\n",
            "320/320 [==============================] - 6s 18ms/step - loss: 0.7427 - accuracy: 0.7386 - val_loss: 0.7661 - val_accuracy: 0.7387\n",
            "Epoch 52/100\n",
            "320/320 [==============================] - 6s 18ms/step - loss: 0.7306 - accuracy: 0.7391 - val_loss: 0.7102 - val_accuracy: 0.7623\n",
            "Epoch 53/100\n",
            "320/320 [==============================] - 6s 17ms/step - loss: 0.7236 - accuracy: 0.7462 - val_loss: 0.7186 - val_accuracy: 0.7508\n",
            "Epoch 54/100\n",
            "320/320 [==============================] - 6s 17ms/step - loss: 0.6963 - accuracy: 0.7561 - val_loss: 0.7576 - val_accuracy: 0.7492\n",
            "Epoch 55/100\n",
            "320/320 [==============================] - 6s 18ms/step - loss: 0.7299 - accuracy: 0.7416 - val_loss: 0.7802 - val_accuracy: 0.7508\n",
            "Epoch 56/100\n",
            "320/320 [==============================] - 6s 17ms/step - loss: 0.7254 - accuracy: 0.7367 - val_loss: 0.7073 - val_accuracy: 0.7733\n",
            "Epoch 57/100\n",
            "320/320 [==============================] - 6s 18ms/step - loss: 0.7041 - accuracy: 0.7489 - val_loss: 0.7438 - val_accuracy: 0.7452\n",
            "Epoch 58/100\n",
            "320/320 [==============================] - 6s 18ms/step - loss: 0.6900 - accuracy: 0.7529 - val_loss: 0.7551 - val_accuracy: 0.7528\n",
            "Epoch 59/100\n",
            "320/320 [==============================] - 6s 18ms/step - loss: 0.7102 - accuracy: 0.7449 - val_loss: 0.7624 - val_accuracy: 0.7533\n",
            "Epoch 60/100\n",
            "320/320 [==============================] - 6s 18ms/step - loss: 0.6782 - accuracy: 0.7615 - val_loss: 0.7152 - val_accuracy: 0.7683\n",
            "Epoch 61/100\n",
            "320/320 [==============================] - 8s 25ms/step - loss: 0.6757 - accuracy: 0.7595 - val_loss: 0.7902 - val_accuracy: 0.7492\n",
            "Epoch 62/100\n",
            "320/320 [==============================] - 7s 22ms/step - loss: 0.6748 - accuracy: 0.7625 - val_loss: 0.7532 - val_accuracy: 0.7638\n",
            "Epoch 63/100\n",
            "320/320 [==============================] - 6s 18ms/step - loss: 0.6880 - accuracy: 0.7595 - val_loss: 0.7176 - val_accuracy: 0.7558\n",
            "Epoch 64/100\n",
            "320/320 [==============================] - 6s 18ms/step - loss: 0.6712 - accuracy: 0.7633 - val_loss: 0.7435 - val_accuracy: 0.7578\n",
            "Epoch 65/100\n",
            "320/320 [==============================] - 6s 18ms/step - loss: 0.6493 - accuracy: 0.7674 - val_loss: 0.7274 - val_accuracy: 0.7613\n",
            "Epoch 66/100\n",
            "320/320 [==============================] - 6s 18ms/step - loss: 0.6605 - accuracy: 0.7660 - val_loss: 0.6810 - val_accuracy: 0.7778\n",
            "Epoch 67/100\n",
            "320/320 [==============================] - 6s 18ms/step - loss: 0.6682 - accuracy: 0.7619 - val_loss: 0.7087 - val_accuracy: 0.7638\n",
            "Epoch 68/100\n",
            "320/320 [==============================] - 6s 17ms/step - loss: 0.6669 - accuracy: 0.7664 - val_loss: 0.7102 - val_accuracy: 0.7678\n",
            "Epoch 69/100\n",
            "320/320 [==============================] - 6s 17ms/step - loss: 0.6494 - accuracy: 0.7669 - val_loss: 0.7288 - val_accuracy: 0.7748\n",
            "Epoch 70/100\n",
            "320/320 [==============================] - 6s 18ms/step - loss: 0.6677 - accuracy: 0.7605 - val_loss: 0.7213 - val_accuracy: 0.7623\n",
            "Epoch 71/100\n",
            "320/320 [==============================] - 6s 18ms/step - loss: 0.6548 - accuracy: 0.7671 - val_loss: 0.7107 - val_accuracy: 0.7668\n",
            "Epoch 72/100\n",
            "320/320 [==============================] - 6s 17ms/step - loss: 0.6326 - accuracy: 0.7749 - val_loss: 0.7582 - val_accuracy: 0.7608\n",
            "Epoch 73/100\n",
            "320/320 [==============================] - 6s 18ms/step - loss: 0.6335 - accuracy: 0.7802 - val_loss: 0.7139 - val_accuracy: 0.7733\n",
            "Epoch 74/100\n",
            "320/320 [==============================] - 6s 17ms/step - loss: 0.6594 - accuracy: 0.7694 - val_loss: 0.7142 - val_accuracy: 0.7673\n",
            "Epoch 75/100\n",
            "320/320 [==============================] - 6s 17ms/step - loss: 0.6246 - accuracy: 0.7773 - val_loss: 0.7046 - val_accuracy: 0.7778\n",
            "Epoch 76/100\n",
            "320/320 [==============================] - 5s 17ms/step - loss: 0.6299 - accuracy: 0.7754 - val_loss: 0.7063 - val_accuracy: 0.7738\n",
            "Epoch 77/100\n",
            "320/320 [==============================] - 6s 18ms/step - loss: 0.6253 - accuracy: 0.7797 - val_loss: 0.7411 - val_accuracy: 0.7628\n",
            "Epoch 78/100\n",
            "320/320 [==============================] - 6s 18ms/step - loss: 0.6310 - accuracy: 0.7706 - val_loss: 0.7258 - val_accuracy: 0.7778\n",
            "Epoch 79/100\n",
            "320/320 [==============================] - 6s 18ms/step - loss: 0.6121 - accuracy: 0.7823 - val_loss: 0.7060 - val_accuracy: 0.7733\n",
            "Epoch 80/100\n",
            "320/320 [==============================] - 6s 18ms/step - loss: 0.6196 - accuracy: 0.7844 - val_loss: 0.6954 - val_accuracy: 0.7798\n",
            "Epoch 81/100\n",
            "320/320 [==============================] - 6s 18ms/step - loss: 0.6209 - accuracy: 0.7812 - val_loss: 0.7238 - val_accuracy: 0.7558\n",
            "Epoch 82/100\n",
            "320/320 [==============================] - 6s 18ms/step - loss: 0.6096 - accuracy: 0.7844 - val_loss: 0.6708 - val_accuracy: 0.7918\n",
            "Epoch 83/100\n",
            "320/320 [==============================] - 6s 18ms/step - loss: 0.6061 - accuracy: 0.7837 - val_loss: 0.6676 - val_accuracy: 0.7808\n",
            "Epoch 84/100\n",
            "320/320 [==============================] - 6s 18ms/step - loss: 0.6105 - accuracy: 0.7900 - val_loss: 0.7217 - val_accuracy: 0.7763\n",
            "Epoch 85/100\n",
            "320/320 [==============================] - 6s 17ms/step - loss: 0.6217 - accuracy: 0.7774 - val_loss: 0.6955 - val_accuracy: 0.7818\n",
            "Epoch 86/100\n",
            "320/320 [==============================] - 5s 17ms/step - loss: 0.6192 - accuracy: 0.7802 - val_loss: 0.7446 - val_accuracy: 0.7668\n",
            "Epoch 87/100\n",
            "320/320 [==============================] - 5s 17ms/step - loss: 0.5935 - accuracy: 0.7903 - val_loss: 0.6956 - val_accuracy: 0.7713\n",
            "Epoch 88/100\n",
            "320/320 [==============================] - 6s 18ms/step - loss: 0.5968 - accuracy: 0.7859 - val_loss: 0.7171 - val_accuracy: 0.7823\n",
            "Epoch 89/100\n",
            "320/320 [==============================] - 6s 18ms/step - loss: 0.6010 - accuracy: 0.7819 - val_loss: 0.6719 - val_accuracy: 0.7923\n",
            "Epoch 90/100\n",
            "320/320 [==============================] - 6s 17ms/step - loss: 0.6055 - accuracy: 0.7894 - val_loss: 0.6603 - val_accuracy: 0.7778\n",
            "Epoch 91/100\n",
            "320/320 [==============================] - 5s 17ms/step - loss: 0.5873 - accuracy: 0.7904 - val_loss: 0.6818 - val_accuracy: 0.7828\n",
            "Epoch 92/100\n",
            "320/320 [==============================] - 6s 18ms/step - loss: 0.5787 - accuracy: 0.7957 - val_loss: 0.6647 - val_accuracy: 0.7873\n",
            "Epoch 93/100\n",
            "320/320 [==============================] - 6s 18ms/step - loss: 0.5910 - accuracy: 0.7908 - val_loss: 0.6655 - val_accuracy: 0.7813\n",
            "Epoch 94/100\n",
            "320/320 [==============================] - 6s 18ms/step - loss: 0.6038 - accuracy: 0.7830 - val_loss: 0.6902 - val_accuracy: 0.7773\n",
            "Epoch 95/100\n",
            "320/320 [==============================] - 6s 18ms/step - loss: 0.5850 - accuracy: 0.7942 - val_loss: 0.6930 - val_accuracy: 0.7788\n",
            "Epoch 96/100\n",
            "320/320 [==============================] - 6s 18ms/step - loss: 0.5770 - accuracy: 0.7944 - val_loss: 0.6897 - val_accuracy: 0.7808\n",
            "Epoch 97/100\n",
            "320/320 [==============================] - 6s 18ms/step - loss: 0.5784 - accuracy: 0.7917 - val_loss: 0.6746 - val_accuracy: 0.7908\n",
            "Epoch 98/100\n",
            "320/320 [==============================] - 6s 19ms/step - loss: 0.5652 - accuracy: 0.7997 - val_loss: 0.6888 - val_accuracy: 0.7813\n",
            "Epoch 99/100\n",
            "320/320 [==============================] - 6s 17ms/step - loss: 0.5605 - accuracy: 0.7989 - val_loss: 0.7026 - val_accuracy: 0.7838\n",
            "Epoch 100/100\n",
            "320/320 [==============================] - 6s 18ms/step - loss: 0.5767 - accuracy: 0.7999 - val_loss: 0.7036 - val_accuracy: 0.7808\n",
            "80/80 [==============================] - 0s 6ms/step - loss: 0.7036 - accuracy: 0.7808\n"
          ]
        }
      ]
    },
    {
      "cell_type": "code",
      "source": [
        "plot_accuracy(history, \"LSTM model\")\n",
        "plot_loss(history, \"LSTM model\")\n",
        "\n",
        "plt.show()"
      ],
      "metadata": {
        "colab": {
          "base_uri": "https://localhost:8080/",
          "height": 805
        },
        "id": "Jtpi7yqlQ2H0",
        "outputId": "e2ebca12-ab11-47c6-c9bd-d3703e22b5a0"
      },
      "execution_count": null,
      "outputs": [
        {
          "output_type": "display_data",
          "data": {
            "text/plain": [
              "<Figure size 576x432 with 1 Axes>"
            ],
            "image/png": "[encoded data removed]"
          },
          "metadata": {
            "needs_background": "light"
          }
        },
        {
          "output_type": "display_data",
          "data": {
            "text/plain": [
              "<Figure size 576x432 with 1 Axes>"
            ],
            "image/png": "[encoded data removed]"
          },
          "metadata": {
            "needs_background": "light"
          }
        }
      ]
    },
    {
      "cell_type": "code",
      "source": [
        "print (\"Validation Loss = \" + str(preds[0]))\n",
        "print (\"Validation Accuracy = \" + str(preds[1]))"
      ],
      "metadata": {
        "colab": {
          "base_uri": "https://localhost:8080/"
        },
        "id": "PGWTn2fGRA5g",
        "outputId": "b69efbfb-8bbf-4792-c44c-357f7a69e9ac"
      },
      "execution_count": null,
      "outputs": [
        {
          "output_type": "stream",
          "name": "stdout",
          "text": [
            "Validation Loss = 0.7036150097846985\n",
            "Validation Accuracy = 0.7807807922363281\n"
          ]
        }
      ]
    }
  ]
}